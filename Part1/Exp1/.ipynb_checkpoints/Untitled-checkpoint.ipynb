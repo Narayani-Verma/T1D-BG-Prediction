{
 "cells": [
  {
   "cell_type": "code",
   "execution_count": 2,
   "id": "9bbb1834-6821-424b-86df-85e158fabed4",
   "metadata": {},
   "outputs": [
    {
     "ename": "NameError",
     "evalue": "name 'self' is not defined",
     "output_type": "error",
     "traceback": [
      "\u001b[0;31m---------------------------------------------------------------------------\u001b[0m",
      "\u001b[0;31mNameError\u001b[0m                                 Traceback (most recent call last)",
      "Cell \u001b[0;32mIn[2], line 13\u001b[0m\n\u001b[1;32m      8\u001b[0m amount_sigma \u001b[38;5;241m=\u001b[39m [\u001b[38;5;241m10\u001b[39m, \u001b[38;5;241m5\u001b[39m, \u001b[38;5;241m10\u001b[39m, \u001b[38;5;241m5\u001b[39m, \u001b[38;5;241m10\u001b[39m, \u001b[38;5;241m5\u001b[39m]\n\u001b[1;32m     10\u001b[0m \u001b[38;5;28;01mfor\u001b[39;00m p, tlb, tub, tbar, tsd, mbar, msd \u001b[38;5;129;01min\u001b[39;00m \u001b[38;5;28mzip\u001b[39m(prob, time_lb, time_ub,\n\u001b[1;32m     11\u001b[0m                                              time_mu, time_sigma,\n\u001b[1;32m     12\u001b[0m                                              amount_mu, amount_sigma):\n\u001b[0;32m---> 13\u001b[0m     \u001b[38;5;28;01mif\u001b[39;00m \u001b[38;5;28mself\u001b[39m\u001b[38;5;241m.\u001b[39mrandom_gen\u001b[38;5;241m.\u001b[39mrand() \u001b[38;5;241m<\u001b[39m p:\n\u001b[1;32m     14\u001b[0m         tmeal \u001b[38;5;241m=\u001b[39m np\u001b[38;5;241m.\u001b[39mround(\n\u001b[1;32m     15\u001b[0m             truncnorm\u001b[38;5;241m.\u001b[39mrvs(a\u001b[38;5;241m=\u001b[39m(tlb \u001b[38;5;241m-\u001b[39m tbar) \u001b[38;5;241m/\u001b[39m tsd,\n\u001b[1;32m     16\u001b[0m                           b\u001b[38;5;241m=\u001b[39m(tub \u001b[38;5;241m-\u001b[39m tbar) \u001b[38;5;241m/\u001b[39m tsd,\n\u001b[1;32m     17\u001b[0m                           loc\u001b[38;5;241m=\u001b[39mtbar,\n\u001b[1;32m     18\u001b[0m                           scale\u001b[38;5;241m=\u001b[39mtsd,\n\u001b[1;32m     19\u001b[0m                           random_state\u001b[38;5;241m=\u001b[39m\u001b[38;5;28mself\u001b[39m\u001b[38;5;241m.\u001b[39mrandom_gen))\n\u001b[1;32m     20\u001b[0m         scenario[\u001b[38;5;124m'\u001b[39m\u001b[38;5;124mmeal\u001b[39m\u001b[38;5;124m'\u001b[39m][\u001b[38;5;124m'\u001b[39m\u001b[38;5;124mtime\u001b[39m\u001b[38;5;124m'\u001b[39m]\u001b[38;5;241m.\u001b[39mappend(tmeal)\n",
      "\u001b[0;31mNameError\u001b[0m: name 'self' is not defined"
     ]
    }
   ],
   "source": [
    "import numpy as np\n",
    "prob = [0.95, 0.3, 0.95, 0.3, 0.95, 0.3]\n",
    "time_lb = np.array([5, 9, 10, 14, 16, 20]) * 60\n",
    "time_ub = np.array([9, 10, 14, 16, 20, 23]) * 60\n",
    "time_mu = np.array([7, 9.5, 12, 15, 18, 21.5]) * 60\n",
    "time_sigma = np.array([60, 30, 60, 30, 60, 30])\n",
    "amount_mu = [150, 30, 300, 350, 250, 10]\n",
    "amount_sigma = [10, 5, 10, 5, 10, 5]\n",
    "\n",
    "for p, tlb, tub, tbar, tsd, mbar, msd in zip(prob, time_lb, time_ub,\n",
    "                                             time_mu, time_sigma,\n",
    "                                             amount_mu, amount_sigma):\n",
    "    if random_gen.rand() < p:\n",
    "        tmeal = np.round(\n",
    "            truncnorm.rvs(a=(tlb - tbar) / tsd,\n",
    "                          b=(tub - tbar) / tsd,\n",
    "                          loc=tbar,\n",
    "                          scale=tsd,\n",
    "                          random_state=self.random_gen))\n",
    "        scenario['meal']['time'].append(tmeal)\n",
    "        # scenario['meal']['amount'].append(\n",
    "        #     max(round(self.random_gen.normal(mbar, msd)), 0))\n",
    "        scenario['meal']['amount'].append(\n",
    "            abs(round(self.random_gen.normal(mbar, msd))))"
   ]
  },
  {
   "cell_type": "code",
   "execution_count": null,
   "id": "3ba557a6-6d0a-4569-a519-b1f0a3ed3d70",
   "metadata": {},
   "outputs": [],
   "source": []
  }
 ],
 "metadata": {
  "kernelspec": {
   "display_name": "Python 3 (ipykernel)",
   "language": "python",
   "name": "python3"
  },
  "language_info": {
   "codemirror_mode": {
    "name": "ipython",
    "version": 3
   },
   "file_extension": ".py",
   "mimetype": "text/x-python",
   "name": "python",
   "nbconvert_exporter": "python",
   "pygments_lexer": "ipython3",
   "version": "3.11.0"
  }
 },
 "nbformat": 4,
 "nbformat_minor": 5
}
